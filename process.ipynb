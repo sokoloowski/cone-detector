{
 "cells": [
  {
   "cell_type": "code",
   "execution_count": 1,
   "metadata": {},
   "outputs": [],
   "source": [
    "import os\n",
    "import json\n",
    "\n",
    "# Load configuration\n",
    "if os.path.exists('config/localconfig.py'):\n",
    "    from config import localconfig as config\n",
    "else:\n",
    "    from config import config"
   ]
  },
  {
   "cell_type": "code",
   "execution_count": 2,
   "metadata": {},
   "outputs": [],
   "source": [
    "max_objects = 0"
   ]
  },
  {
   "cell_type": "code",
   "execution_count": 3,
   "metadata": {},
   "outputs": [],
   "source": [
    "if not os.path.exists(config.BB_OBJECTS):\n",
    "    os.mkdir(config.BB_OBJECTS)\n",
    "\n",
    "annot_paths = [f for f in os.listdir(config.BB_ANNOTATIONS)]\n",
    "for path in annot_paths:\n",
    "    with open(os.path.join(config.BB_ANNOTATIONS, path)) as f:\n",
    "        annot = json.load(f)\n",
    "    objects = []\n",
    "    for o in annot['objects']:\n",
    "        objects.append({'class': o['classTitle'],\n",
    "                        'top_left': {'x': o['points']['exterior'][0][0],\n",
    "                                     'y': o['points']['exterior'][0][1]},\n",
    "                        'bottom_right': {'x': o['points']['exterior'][1][0],\n",
    "                                         'y': o['points']['exterior'][1][1]}})\n",
    "\n",
    "    if len(objects) > 10:\n",
    "        continue\n",
    "\n",
    "    max_objects = max(max_objects, len(objects))\n",
    "    if len(objects) == 122:\n",
    "        print(path)\n",
    "\n",
    "    with open(os.path.join(config.BB_OBJECTS, path), 'w') as f:\n",
    "        json.dump(objects, f) "
   ]
  },
  {
   "cell_type": "code",
   "execution_count": null,
   "metadata": {},
   "outputs": [],
   "source": [
    "if not os.path.exists(config.BB_TARGET):\n",
    "    os.mkdir(config.BB_TARGET)\n",
    "\n",
    "annot_paths = [f for f in os.listdir(config.BB_OBJECTS)]\n",
    "for path in annot_paths:\n",
    "    with open(os.path.join(config.BB_OBJECTS, path)) as f:\n",
    "        annot = json.load(f)\n",
    "    \n",
    "    target = [(None, None, None, None) for _ in range(10)]\n",
    "    for i in range(len(annot)):\n",
    "        target[i] = (annot[i]['top_left']['x'],\n",
    "                     annot[i]['top_left']['y'],\n",
    "                     annot[i]['bottom_right']['x'],\n",
    "                     annot[i]['bottom_right']['y'])\n",
    "\n",
    "    with open(os.path.join(config.BB_TARGET, path), 'w') as f:\n",
    "        json.dump(target, f)"
   ]
  }
 ],
 "metadata": {
  "kernelspec": {
   "display_name": "Python 3.10.8 ('tf')",
   "language": "python",
   "name": "python3"
  },
  "language_info": {
   "codemirror_mode": {
    "name": "ipython",
    "version": 3
   },
   "file_extension": ".py",
   "mimetype": "text/x-python",
   "name": "python",
   "nbconvert_exporter": "python",
   "pygments_lexer": "ipython3",
   "version": "3.10.8"
  },
  "orig_nbformat": 4,
  "vscode": {
   "interpreter": {
    "hash": "1c013d6d5eb5ad4ebcf3fbdc592eb4746d753f59595d37b4a7d1710f37ceaed5"
   }
  }
 },
 "nbformat": 4,
 "nbformat_minor": 2
}
